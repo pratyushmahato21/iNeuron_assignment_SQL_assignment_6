{
 "cells": [
  {
   "cell_type": "markdown",
   "id": "48b6c67d",
   "metadata": {},
   "source": [
    "Q-1. Write an SQL query to print details of the Workers who have joined in Feb’2014."
   ]
  },
  {
   "cell_type": "markdown",
   "id": "d5a796b0",
   "metadata": {},
   "source": [
    "SELECT * FROM WORKER WHERE joining_date BETWEEN '2014-02-01' AND '2014-02-28';"
   ]
  },
  {
   "cell_type": "markdown",
   "id": "44ee94e2",
   "metadata": {},
   "source": [
    "Q-2. Write an SQL query to fetch duplicate records having matching data in some fields of a table."
   ]
  },
  {
   "cell_type": "markdown",
   "id": "c26a424a",
   "metadata": {},
   "source": [
    "SELECT last_name, COUNT(last_name) AS count_of_hire_date FROM WORKER\n",
    "GROUP BY last_name\n",
    "HAVING COUNT(last_name) > 1;"
   ]
  },
  {
   "cell_type": "markdown",
   "id": "69049e5b",
   "metadata": {},
   "source": [
    "Q-3. How to remove duplicate rows from Employees table."
   ]
  },
  {
   "cell_type": "markdown",
   "id": "7c0f5a73",
   "metadata": {},
   "source": [
    "SELECT last_name, COUNT(last_name) AS count_of_hire_date FROM WORKER\n",
    "GROUP BY last_name\n",
    "HAVING COUNT(last_name) = 1;"
   ]
  },
  {
   "cell_type": "code",
   "execution_count": null,
   "id": "0c4b030b",
   "metadata": {},
   "outputs": [],
   "source": []
  }
 ],
 "metadata": {
  "kernelspec": {
   "display_name": "Python 3 (ipykernel)",
   "language": "python",
   "name": "python3"
  },
  "language_info": {
   "codemirror_mode": {
    "name": "ipython",
    "version": 3
   },
   "file_extension": ".py",
   "mimetype": "text/x-python",
   "name": "python",
   "nbconvert_exporter": "python",
   "pygments_lexer": "ipython3",
   "version": "3.8.12"
  }
 },
 "nbformat": 4,
 "nbformat_minor": 5
}
